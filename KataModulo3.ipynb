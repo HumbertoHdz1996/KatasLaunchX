{
 "cells": [
  {
   "cell_type": "markdown",
   "metadata": {},
   "source": [
    "# Kata Modulo 3"
   ]
  },
  {
   "cell_type": "markdown",
   "metadata": {},
   "source": [
    "## Problema 1: Detectar si viene o no un asteroide\n",
    "\n",
    "Parametros:\n",
    "* Añadir variable para velocidad del asteroide\n",
    "* Alertar en caso de ser necesario\n",
    "* Instrucciones para alerta True o False"
   ]
  },
  {
   "cell_type": "code",
   "execution_count": 27,
   "metadata": {},
   "outputs": [
    {
     "name": "stdout",
     "output_type": "stream",
     "text": [
      "¡¡Se acerca un asteroide, coraaaaan!!\n"
     ]
    }
   ],
   "source": [
    "vel_asteroide = 49\n",
    "\n",
    "if vel_asteroide >=25:\n",
    "    print(\"¡¡Se acerca un asteroide, coraaaaan!!\")\n",
    "else:\n",
    "    print(\"Todo despejado, sigamos al infinito y mas alla\")"
   ]
  },
  {
   "cell_type": "markdown",
   "metadata": {},
   "source": [
    "## Problema 2: Detectar hay luces en el cielo\n",
    "\n",
    "Parametros:\n",
    "* Condiciones multiples para ver el rayo de luz usando \"if\", \"elif\" y \"else\"\n",
    "* Añadir variable para velocidad del asteroide = 19km/s\n",
    "* Instrucciones para alerta True o False"
   ]
  },
  {
   "cell_type": "code",
   "execution_count": 28,
   "metadata": {},
   "outputs": [
    {
     "name": "stdout",
     "output_type": "stream",
     "text": [
      "No es tu imaginación, si hay un rayo de luz bien rápido en el cielo :o\n"
     ]
    }
   ],
   "source": [
    "vel_asteroide = 79\n",
    "if vel_asteroide > 20:\n",
    "    print(\"No es tu imaginación, si hay un rayo de luz bien rápido en el cielo :o\")\n",
    "elif vel_asteroide == 20:\n",
    "    print(\"No es tu imaginación, si hay un rayo de luz en el cielo\")\n",
    "else:\n",
    "    print(\"Otro dia sin luces bonitas en el cielo :c\")"
   ]
  },
  {
   "cell_type": "markdown",
   "metadata": {},
   "source": [
    "## Problema 3: Detectar si viene o no un asteroide\n",
    "\n",
    "Parametros:\n",
    "* Condiciones multiples usando \"and\", y \"or\"\n",
    "* Añadir variable para velocidad del asteroide y tamaño del asteroide\n",
    "* Instrucciones para alerta True o False"
   ]
  },
  {
   "cell_type": "code",
   "execution_count": 29,
   "metadata": {},
   "outputs": [
    {
     "name": "stdout",
     "output_type": "stream",
     "text": [
      "¡Corran a los bunkers, alerta de asteroide!\n"
     ]
    }
   ],
   "source": [
    "vel_asteroide = 30\n",
    "tamaño_asteroide = 30\n",
    "\n",
    "if vel_asteroide >= 25 and tamaño_asteroide >= 25:\n",
    "    print(\"¡Corran a los bunkers, alerta de asteroide!\")\n",
    "elif vel_asteroide >= 20:\n",
    "    print(\"No es tu imaginación, si hay un rayo de luz en el cielo\")\n",
    "elif tamaño_asteroide < 25:\n",
    "    print(\"No hay de que preocuparse, solito se consumira\")\n",
    "else:\n",
    "    print(\"No pasa nada de nada\")"
   ]
  }
 ],
 "metadata": {
  "interpreter": {
   "hash": "367300300978f72c240ba6a651622859cfc0b6a0111db5537850d25b7de09198"
  },
  "kernelspec": {
   "display_name": "Python 3.10.2 64-bit",
   "language": "python",
   "name": "python3"
  },
  "language_info": {
   "codemirror_mode": {
    "name": "ipython",
    "version": 3
   },
   "file_extension": ".py",
   "mimetype": "text/x-python",
   "name": "python",
   "nbconvert_exporter": "python",
   "pygments_lexer": "ipython3",
   "version": "3.10.2"
  },
  "orig_nbformat": 4
 },
 "nbformat": 4,
 "nbformat_minor": 2
}
