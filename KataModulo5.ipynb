{
 "cells": [
  {
   "cell_type": "markdown",
   "metadata": {},
   "source": [
    "# Kata Modulo 5"
   ]
  },
  {
   "cell_type": "markdown",
   "metadata": {},
   "source": [
    "## Ejerecicio 1: Utilizar operadores aritméticos"
   ]
  },
  {
   "cell_type": "code",
   "execution_count": 1,
   "metadata": {},
   "outputs": [],
   "source": [
    "# Crear las variables para almacenar las dos distancias\n",
    "\n",
    "planeta1 = 149597870\n",
    "planeta2 = 778547200"
   ]
  },
  {
   "cell_type": "code",
   "execution_count": 3,
   "metadata": {},
   "outputs": [
    {
     "name": "stdout",
     "output_type": "stream",
     "text": [
      "La distancia en kilometros es  628949330\n",
      "La distancia en millas es  390577533.93\n"
     ]
    }
   ],
   "source": [
    "# Realizo la operación\n",
    "distancia = planeta2 - planeta1\n",
    "print(\"La distancia en kilometros es \", distancia)\n",
    "\n",
    "distancia_en_millas = distancia * 0.621\n",
    "print(\"La distancia en millas es \", distancia_en_millas)"
   ]
  },
  {
   "cell_type": "markdown",
   "metadata": {},
   "source": [
    "## Ejercicio 2: Convierte cadenas en números y usa valores absolutos"
   ]
  },
  {
   "cell_type": "code",
   "execution_count": 9,
   "metadata": {},
   "outputs": [
    {
     "name": "stdout",
     "output_type": "stream",
     "text": [
      "57900000\n",
      "108200000\n"
     ]
    }
   ],
   "source": [
    "# entrada de datos de usuario\n",
    "planeta1 = input(\"¿Cual es la distancia entre el sol y el primer planeta?\")\n",
    "planeta2 = input(\"¿Cual es la distancia entre el sol y el segundo planeta?\")\n",
    "print(planeta1)\n",
    "print(planeta2)"
   ]
  },
  {
   "cell_type": "code",
   "execution_count": 10,
   "metadata": {},
   "outputs": [],
   "source": [
    "# Convierto el String que da input a int\n",
    "planeta1 = int(planeta1)\n",
    "planeta2 = int(planeta2)"
   ]
  },
  {
   "cell_type": "code",
   "execution_count": 11,
   "metadata": {},
   "outputs": [
    {
     "name": "stdout",
     "output_type": "stream",
     "text": [
      "La distancia entre ambos planetas en kilometros es:  50300000\n",
      "La distancia entre ambos planetas en millas es:  31236300.0\n"
     ]
    }
   ],
   "source": [
    "# Hago los calculos y convierto a valor absoluto\n",
    "distancia = planeta2 - planeta1\n",
    "print(\"La distancia entre ambos planetas en kilometros es: \", abs(distancia))\n",
    "\n",
    "distancia_en_millas = distancia * 0.621\n",
    "print(\"La distancia entre ambos planetas en millas es: \", abs(distancia_en_millas))"
   ]
  },
  {
   "cell_type": "code",
   "execution_count": null,
   "metadata": {},
   "outputs": [],
   "source": []
  }
 ],
 "metadata": {
  "interpreter": {
   "hash": "367300300978f72c240ba6a651622859cfc0b6a0111db5537850d25b7de09198"
  },
  "kernelspec": {
   "display_name": "Python 3.10.2 64-bit",
   "language": "python",
   "name": "python3"
  },
  "language_info": {
   "codemirror_mode": {
    "name": "ipython",
    "version": 3
   },
   "file_extension": ".py",
   "mimetype": "text/x-python",
   "name": "python",
   "nbconvert_exporter": "python",
   "pygments_lexer": "ipython3",
   "version": "3.10.2"
  },
  "orig_nbformat": 4
 },
 "nbformat": 4,
 "nbformat_minor": 2
}
