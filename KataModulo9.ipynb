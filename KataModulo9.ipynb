{
 "cells": [
  {
   "cell_type": "markdown",
   "metadata": {},
   "source": [
    "# Kata Modulo 9"
   ]
  },
  {
   "cell_type": "markdown",
   "metadata": {},
   "source": [
    "## Ejercicio 1: Trabajar con argumentos en funciónes"
   ]
  },
  {
   "cell_type": "code",
   "execution_count": 1,
   "metadata": {},
   "outputs": [],
   "source": [
    "# Función para leer 3 tanques de combustible y mostrar el promedio\n",
    "def reporte(tank1, tank2, tank3):\n",
    "    average = (tank1 + tank2 + tank3) / 3\n",
    "    return f\"\"\"Reporte de Combustible:\n",
    "    Promedio {average}%\n",
    "    Tanque 1: {tank1}%\n",
    "    Tanque 2: {tank2}%\n",
    "    Tanque 3: {tank3}%\"\"\"\n"
   ]
  },
  {
   "cell_type": "code",
   "execution_count": 3,
   "metadata": {},
   "outputs": [
    {
     "name": "stdout",
     "output_type": "stream",
     "text": [
      "Reporte de Combustible:\n",
      "    Promedio 67.33333333333333%\n",
      "    Tanque 1: 49%\n",
      "    Tanque 2: 64%\n",
      "    Tanque 3: 89%\n"
     ]
    }
   ],
   "source": [
    "# Llamo a la función que genera el reporte (en este escenario, los tanques no estan llenos)\n",
    "print(reporte(49, 64, 89))"
   ]
  },
  {
   "cell_type": "code",
   "execution_count": 7,
   "metadata": {},
   "outputs": [
    {
     "data": {
      "text/plain": [
       "67.33333333333333"
      ]
     },
     "execution_count": 7,
     "metadata": {},
     "output_type": "execute_result"
    }
   ],
   "source": [
    "# Función promedio\n",
    "def average_solo(values):\n",
    "    total = sum(values)\n",
    "    num_items = len(values)\n",
    "    return total/num_items\n",
    "\n",
    "average_solo([49, 64, 89])"
   ]
  },
  {
   "cell_type": "code",
   "execution_count": 9,
   "metadata": {},
   "outputs": [
    {
     "name": "stdout",
     "output_type": "stream",
     "text": [
      "Reporte de Combustible:\n",
      "    Promedio: 67%\n",
      "    Tanque 1: 49%\n",
      "    Tanque 2: 64%\n",
      "    Tanque 3: 89%\n"
     ]
    }
   ],
   "source": [
    "# Actualizo la función\n",
    "def reporte(tank1, tank2, tank3):\n",
    "    return f\"\"\"Reporte de Combustible:\n",
    "    Promedio: {round(average_solo([tank1, tank2, tank3]))}%\n",
    "    Tanque 1: {tank1}%\n",
    "    Tanque 2: {tank2}%\n",
    "    Tanque 3: {tank3}%\"\"\"\n",
    "\n",
    "print(reporte(49, 64, 89))"
   ]
  },
  {
   "cell_type": "markdown",
   "metadata": {},
   "source": [
    "## Ejercicio 2: Trabajo con argumentos de palabra clave"
   ]
  },
  {
   "cell_type": "code",
   "execution_count": 12,
   "metadata": {},
   "outputs": [
    {
     "name": "stdout",
     "output_type": "stream",
     "text": [
      "\n",
      "    Misión hacia: Luna\n",
      "    Tiempo total: 143 minutos\n",
      "    Combustible del tanque izquierdo: 133 galones\n"
     ]
    }
   ],
   "source": [
    "# Función con un informe preciso de la misión. Considero hora de prelanzamiento, tiempo de vuelo, destino, tanque externo y tanque interno\n",
    "def reporte_mision(pre_lanzamiento, tiempo_vuelo, destino, tanque_externo, tanque_interno):\n",
    "    return f\"\"\"\n",
    "    Misión hacia: {destino}\n",
    "    Tiempo total: {pre_lanzamiento + tiempo_vuelo} minutos\n",
    "    Combustible del tanque izquierdo: {tanque_externo + tanque_interno} galones\"\"\"\n",
    "\n",
    "print(reporte_mision(64, 79, 'Luna', 46, 87))"
   ]
  },
  {
   "cell_type": "code",
   "execution_count": 18,
   "metadata": {},
   "outputs": [
    {
     "name": "stdout",
     "output_type": "stream",
     "text": [
      "\n",
      "    Misión hacia: Luna\n",
      "    Tiempo total: 76 minutos\n",
      "    Combustible del tanque izquierdo: 500 galones\n"
     ]
    }
   ],
   "source": [
    "#  Escribo una nueva función considerando lo anterior\n",
    "def reporte_mision(destino, *minutos, **reservas_combustible):\n",
    "    return f\"\"\"\n",
    "    Misión hacia: {destino}\n",
    "    Tiempo total: {sum(minutos)} minutos\n",
    "    Combustible del tanque izquierdo: {sum(reservas_combustible.values())} galones\"\"\"\n",
    "\n",
    "print(reporte_mision('Luna', 10, 15, 51, main=300, external=200))"
   ]
  },
  {
   "cell_type": "code",
   "execution_count": 26,
   "metadata": {},
   "outputs": [
    {
     "name": "stdout",
     "output_type": "stream",
     "text": [
      "\n",
      "    Misión hacia: Luna\n",
      "    Tiempo total: 74 minutos\n",
      "    Combustible del tanque: 500000 galones\n",
      " El tanque izquierdo tiene 300000 galones\n",
      " El tanque derecho tiene 200000 galones\n",
      "\n"
     ]
    }
   ],
   "source": [
    "# Escribo mi nueva función\n",
    "def reporte_mision(destino, *minutos, **reservas_combustible):\n",
    "    reporte_principal = f\"\"\"\n",
    "    Misión hacia: {destino}\n",
    "    Tiempo total: {sum(minutos)} minutos\n",
    "    Combustible del tanque: {sum(reservas_combustible.values())} galones\\n\"\"\"\n",
    "\n",
    "    for nombre_tank, galones in reservas_combustible.items():\n",
    "        reporte_principal += f\" El tanque {nombre_tank} tiene {galones} galones\\n\"\n",
    "    return reporte_principal\n",
    "print(reporte_mision('Luna', 8, 11, 55, izquierdo =300000, derecho=200000))"
   ]
  },
  {
   "cell_type": "code",
   "execution_count": null,
   "metadata": {},
   "outputs": [],
   "source": []
  }
 ],
 "metadata": {
  "interpreter": {
   "hash": "367300300978f72c240ba6a651622859cfc0b6a0111db5537850d25b7de09198"
  },
  "kernelspec": {
   "display_name": "Python 3.10.2 64-bit",
   "language": "python",
   "name": "python3"
  },
  "language_info": {
   "codemirror_mode": {
    "name": "ipython",
    "version": 3
   },
   "file_extension": ".py",
   "mimetype": "text/x-python",
   "name": "python",
   "nbconvert_exporter": "python",
   "pygments_lexer": "ipython3",
   "version": "3.10.2"
  },
  "orig_nbformat": 4
 },
 "nbformat": 4,
 "nbformat_minor": 2
}
