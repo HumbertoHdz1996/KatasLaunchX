{
 "cells": [
  {
   "cell_type": "markdown",
   "metadata": {},
   "source": [
    "# Kata Modulo 8"
   ]
  },
  {
   "cell_type": "markdown",
   "metadata": {},
   "source": [
    "## Ejercicio 1: Creación de diccionarios de Python"
   ]
  },
  {
   "cell_type": "code",
   "execution_count": 1,
   "metadata": {},
   "outputs": [],
   "source": [
    "# Creo un diccionario llamado 'planet' con los datos propuestos\n",
    "planet = {\n",
    "    'name': 'Mars',\n",
    "    'moons': 2\n",
    "}"
   ]
  },
  {
   "cell_type": "code",
   "execution_count": 8,
   "metadata": {},
   "outputs": [
    {
     "name": "stdout",
     "output_type": "stream",
     "text": [
      "Mars has 2 moons\n"
     ]
    }
   ],
   "source": [
    "# Muestro el nombre del planeta y el numero de lunas que tiene\n",
    "print(f'{planet[\"name\"]} has {planet[\"moons\"]} moons')"
   ]
  },
  {
   "cell_type": "code",
   "execution_count": 9,
   "metadata": {},
   "outputs": [],
   "source": [
    "# Agrego la clave circunferencia con los datos proporcionados previamente\n",
    "planet['circunferencia (km)'] = {\n",
    "    'polar': 6752,\n",
    "    'equatorial': 6792\n",
    "}"
   ]
  },
  {
   "cell_type": "code",
   "execution_count": 12,
   "metadata": {},
   "outputs": [
    {
     "name": "stdout",
     "output_type": "stream",
     "text": [
      "The planet Mars has a polar circumference of 6752\n"
     ]
    }
   ],
   "source": [
    "# Imprimo el nombre del planeta con su circunferencia polar\n",
    "print(f'The planet {planet[\"name\"]} has a polar circumference of {planet[\"circunferencia (km)\"][\"polar\"]}')"
   ]
  },
  {
   "cell_type": "markdown",
   "metadata": {},
   "source": [
    "## Ejercicio 2: Programación dinámica con diccionarios"
   ]
  },
  {
   "cell_type": "code",
   "execution_count": 13,
   "metadata": {},
   "outputs": [],
   "source": [
    "# Planetas y lunas\n",
    "planet_moons = {\n",
    "    'mercury': 0,\n",
    "    'venus': 0,\n",
    "    'earth': 1,\n",
    "    'mars': 2,\n",
    "    'jupyter': 79,\n",
    "    'saturn': 82,\n",
    "    'uranus': 27,\n",
    "    'neptune': 14,\n",
    "    'pluto': 5,\n",
    "    'haumea': 2,\n",
    "    'makemake': 1,\n",
    "    'eris': 1\n",
    "}"
   ]
  },
  {
   "cell_type": "code",
   "execution_count": 14,
   "metadata": {},
   "outputs": [],
   "source": [
    "# Añado el codigo para determinar el numero de lunas\n",
    "moons = planet_moons.values()\n",
    "\n",
    "planets = len(planet_moons.keys())"
   ]
  },
  {
   "cell_type": "code",
   "execution_count": 16,
   "metadata": {},
   "outputs": [
    {
     "name": "stdout",
     "output_type": "stream",
     "text": [
      "17.833333333333332\n"
     ]
    }
   ],
   "source": [
    "# Agrego el codigo para contar el numero de lunas\n",
    "total_moons = 0\n",
    "for moon in moons:\n",
    "    total_moons = total_moons + moon\n",
    "\n",
    "average = total_moons / planets\n",
    "print(average)"
   ]
  }
 ],
 "metadata": {
  "interpreter": {
   "hash": "367300300978f72c240ba6a651622859cfc0b6a0111db5537850d25b7de09198"
  },
  "kernelspec": {
   "display_name": "Python 3.10.2 64-bit",
   "language": "python",
   "name": "python3"
  },
  "language_info": {
   "name": "python",
   "version": "3.10.2"
  },
  "orig_nbformat": 4
 },
 "nbformat": 4,
 "nbformat_minor": 2
}
